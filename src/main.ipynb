{
 "cells": [
  {
   "cell_type": "markdown",
   "metadata": {},
   "source": [
    "# Utilities \n",
    "\n",
    "First, we defined all common imports and functions used across the code."
   ]
  },
  {
   "cell_type": "code",
   "execution_count": 21,
   "metadata": {},
   "outputs": [],
   "source": [
    "import os\n",
    "import json\n",
    "import pandas as pd\n",
    "import matplotlib.pyplot as plt\n",
    "from sklearn.model_selection import train_test_split\n",
    "from sklearn.feature_extraction.text import TfidfVectorizer\n",
    "from sklearn.naive_bayes import MultinomialNB\n",
    "\n",
    "%matplotlib inline\n",
    "\n",
    "snapshots = []\n",
    "\n",
    "def read_json_file(file_path):\n",
    "    print(f\"Reading file: {file_path}\")\n",
    "    with open(file_path, \"r\", encoding=\"utf-8\") as file:\n",
    "        return json.load(file)\n",
    "    \n",
    "def get_snapshots():\n",
    "    if len(snapshots) > 0:\n",
    "        print(\"Returning existing snapshots\")\n",
    "        return snapshots\n",
    "\n",
    "    print(\"Reading snapshots from OS\")\n",
    "    for root, _, files in os.walk(\"../snapshots\"):\n",
    "        for file in files:\n",
    "            if file.endswith(\".json\"):\n",
    "                file_path = os.path.join(root, file)\n",
    "                snapshots.append(read_json_file(file_path))\n",
    "    \n",
    "    return snapshots\n",
    "    \n",
    "def draw_pie_chart(sizes, labels, title):\n",
    "    fig, ax = plt.subplots()\n",
    "    ax.pie(sizes, labels=labels, autopct='%1.1f%%')\n",
    "    ax.axis('equal')  # Equal aspect ratio ensures the pie chart is circular.\n",
    "    ax.set_title(title)\n",
    "    plt.show()"
   ]
  },
  {
   "cell_type": "markdown",
   "metadata": {},
   "source": [
    "# Research Question 1\n",
    "\n",
    "What is the typical structure of conversations between developers and ChatGPT?   \n",
    "How many turns does it take on average to reach a conclusion?\n",
    "\n",
    "# Approach 1: Simple Issues Categorization\n",
    "\n",
    "In this approach, .."
   ]
  },
  {
   "cell_type": "code",
   "execution_count": 22,
   "metadata": {},
   "outputs": [
    {
     "name": "stdout",
     "output_type": "stream",
     "text": [
      "Starting analysis...\n",
      "Reading snapshots from OS\n",
      "Reading file: ../snapshots\\snapshot_20230727\\20230727_195816_hn_sharings.json\n",
      "Reading file: ../snapshots\\snapshot_20230727\\20230727_195927_pr_sharings.json\n",
      "Reading file: ../snapshots\\snapshot_20230727\\20230727_195941_issue_sharings.json\n",
      "Reading file: ../snapshots\\snapshot_20230727\\20230727_195954_discussion_sharings.json\n",
      "Reading file: ../snapshots\\snapshot_20230727\\20230727_200003_commit_sharings.json\n",
      "Reading file: ../snapshots\\snapshot_20230727\\20230727_200102_file_sharings.json\n",
      "Reading file: ../snapshots\\snapshot_20230803\\20230803_093947_pr_sharings.json\n",
      "Reading file: ../snapshots\\snapshot_20230803\\20230803_094705_issue_sharings.json\n",
      "Reading file: ../snapshots\\snapshot_20230803\\20230803_094811_discussion_sharings.json\n",
      "Reading file: ../snapshots\\snapshot_20230803\\20230803_095317_commit_sharings.json\n",
      "Reading file: ../snapshots\\snapshot_20230803\\20230803_103605_file_sharings.json\n",
      "Reading file: ../snapshots\\snapshot_20230803\\20230803_105332_hn_sharings.json\n",
      "Reading file: ../snapshots\\snapshot_20230810\\20230810_123110_pr_sharings.json\n",
      "Reading file: ../snapshots\\snapshot_20230810\\20230810_123938_issue_sharings.json\n",
      "Reading file: ../snapshots\\snapshot_20230810\\20230810_124048_discussion_sharings.json\n",
      "Reading file: ../snapshots\\snapshot_20230810\\20230810_124807_commit_sharings.json\n",
      "Reading file: ../snapshots\\snapshot_20230810\\20230810_133121_file_sharings.json\n",
      "Reading file: ../snapshots\\snapshot_20230810\\20230810_134011_hn_sharings.json\n",
      "Reading file: ../snapshots\\snapshot_20230817\\20230817_125147_pr_sharings.json\n",
      "Reading file: ../snapshots\\snapshot_20230817\\20230817_130502_issue_sharings.json\n",
      "Reading file: ../snapshots\\snapshot_20230817\\20230817_130721_discussion_sharings.json\n",
      "Reading file: ../snapshots\\snapshot_20230817\\20230817_131244_commit_sharings.json\n",
      "Reading file: ../snapshots\\snapshot_20230817\\20230817_151344_file_sharings.json\n",
      "Reading file: ../snapshots\\snapshot_20230817\\20230817_170022_hn_sharings.json\n",
      "Reading file: ../snapshots\\snapshot_20230824\\20230824_100450_pr_sharings.json\n",
      "Reading file: ../snapshots\\snapshot_20230824\\20230824_101836_issue_sharings.json\n",
      "Reading file: ../snapshots\\snapshot_20230824\\20230824_102000_discussion_sharings.json\n",
      "Reading file: ../snapshots\\snapshot_20230824\\20230824_102435_commit_sharings.json\n",
      "Reading file: ../snapshots\\snapshot_20230824\\20230824_111114_file_sharings.json\n",
      "Reading file: ../snapshots\\snapshot_20230824\\20230824_112153_hn_sharings.json\n",
      "Reading file: ../snapshots\\snapshot_20230831\\20230831_060603_pr_sharings.json\n",
      "Reading file: ../snapshots\\snapshot_20230831\\20230831_061759_issue_sharings.json\n",
      "Reading file: ../snapshots\\snapshot_20230831\\20230831_061926_discussion_sharings.json\n",
      "Reading file: ../snapshots\\snapshot_20230831\\20230831_063412_commit_sharings.json\n",
      "Reading file: ../snapshots\\snapshot_20230831\\20230831_072722_file_sharings.json\n",
      "Reading file: ../snapshots\\snapshot_20230831\\20230831_073827_hn_sharings.json\n",
      "Reading file: ../snapshots\\snapshot_20230907\\20230907_091631_pr_sharings.json\n",
      "Reading file: ../snapshots\\snapshot_20230907\\20230907_092956_issue_sharings.json\n",
      "Reading file: ../snapshots\\snapshot_20230907\\20230907_093129_discussion_sharings.json\n",
      "Reading file: ../snapshots\\snapshot_20230907\\20230907_110036_commit_sharings.json\n",
      "Reading file: ../snapshots\\snapshot_20230907\\20230907_121304_file_sharings.json\n",
      "Reading file: ../snapshots\\snapshot_20230907\\20230907_123434_hn_sharings.json\n",
      "Reading file: ../snapshots\\snapshot_20230914\\20230914_074826_pr_sharings.json\n",
      "Reading file: ../snapshots\\snapshot_20230914\\20230914_080417_issue_sharings.json\n",
      "Reading file: ../snapshots\\snapshot_20230914\\20230914_080601_discussion_sharings.json\n",
      "Reading file: ../snapshots\\snapshot_20230914\\20230914_083202_commit_sharings.json\n",
      "Reading file: ../snapshots\\snapshot_20230914\\20230914_104122_file_sharings.json\n",
      "Reading file: ../snapshots\\snapshot_20230914\\20230914_105439_hn_sharings.json\n",
      "Reading file: ../snapshots\\snapshot_20231012\\20231012_230826_commit_sharings.json\n",
      "Reading file: ../snapshots\\snapshot_20231012\\20231012_232232_hn_sharings.json\n",
      "Reading file: ../snapshots\\snapshot_20231012\\20231012_233628_pr_sharings.json\n",
      "Reading file: ../snapshots\\snapshot_20231012\\20231012_234250_file_sharings.json\n",
      "Reading file: ../snapshots\\snapshot_20231012\\20231012_235128_issue_sharings.json\n",
      "Reading file: ../snapshots\\snapshot_20231012\\20231012_235320_discussion_sharings.json\n",
      "\n",
      "Analysis completed.\n",
      "\n"
     ]
    }
   ],
   "source": [
    "def categorize_conversation(prompt, answer):\n",
    "    prompt = prompt.lower()\n",
    "    answer = answer.lower()\n",
    "\n",
    "    if \"bug\" in prompt or \"error\" in answer:\n",
    "        category = \"Bug\"\n",
    "    elif \"feature\" in prompt or \"implement\" in answer:\n",
    "        category = \"Feature Request\"\n",
    "    elif \"how to\" in prompt or \"why\" in answer:\n",
    "        category = \"Theoretical Question\"\n",
    "    else:\n",
    "        category = \"Other\"\n",
    "\n",
    "    return category\n",
    "\n",
    "\n",
    "def process_json_files_rq1_simple():\n",
    "    categories_count = {\n",
    "        \"Bug\": 0,\n",
    "        \"Feature Request\": 0,\n",
    "        \"Theoretical Question\": 0,\n",
    "        \"Other\": 0,\n",
    "    }\n",
    "\n",
    "    for data in get_snapshots():\n",
    "        for source in data.get(\"Sources\", []):\n",
    "            chatgpt_sharing = source.get(\"ChatgptSharing\", [])\n",
    "            for sharing in chatgpt_sharing:\n",
    "                for conversation in sharing.get(\"Conversations\", []):\n",
    "                    prompt = conversation.get(\"Prompt\", \"\")\n",
    "                    answer = conversation.get(\"Answer\", \"\")\n",
    "                    category = categorize_conversation(prompt, answer)\n",
    "                    categories_count[category] += 1\n",
    "\n",
    "    return categories_count\n",
    "\n",
    "\n",
    "print(\"Starting analysis...\")\n",
    "result_rq1_simple = process_json_files_rq1_simple()\n",
    "print(\"\\nAnalysis completed.\\n\")"
   ]
  },
  {
   "cell_type": "markdown",
   "metadata": {},
   "source": [
    "### Results: Simple Issues Categorization"
   ]
  },
  {
   "cell_type": "code",
   "execution_count": 23,
   "metadata": {},
   "outputs": [
    {
     "name": "stdout",
     "output_type": "stream",
     "text": [
      "Results:\n",
      "\n",
      "\tTotal conversations: 153556\n",
      "\tBug: 15164\n",
      "\tFeature Request: 14719\n",
      "\tTheoretical Question: 4487\n",
      "\tOther: 119186\n"
     ]
    },
    {
     "data": {
      "image/png": "[encoded data removed]",
      "text/plain": [
       "<Figure size 640x480 with 1 Axes>"
      ]
     },
     "metadata": {},
     "output_type": "display_data"
    }
   ],
   "source": [
    "print(\"Results:\")\n",
    "print(\"\\n\\tTotal conversations:\", sum(result_rq1_simple.values()))\n",
    "\n",
    "for category, count in result_rq1_simple.items():\n",
    "    print(f\"\\t{category}: {count}\")\n",
    "\n",
    "draw_pie_chart(\n",
    "    result_rq1_simple.values(), \n",
    "    result_rq1_simple.keys(), \n",
    "    \"Results of RQ1: Simple Issue Categorization\"\n",
    ")"
   ]
  },
  {
   "cell_type": "markdown",
   "metadata": {},
   "source": [
    "### Approach 2: Issues categorization via Model\n",
    "\n",
    "In this approach, we "
   ]
  },
  {
   "cell_type": "code",
   "execution_count": 25,
   "metadata": {},
   "outputs": [
    {
     "name": "stdout",
     "output_type": "stream",
     "text": [
      "Training model...\n",
      "Training model complete.\n",
      "\n",
      "Starting analysis...\n",
      "Returning existing snapshots\n",
      "\n",
      "Analysis completed.\n",
      "\n"
     ]
    }
   ],
   "source": [
    "# Load and prepare the machine learning model\n",
    "print(\"Training model...\")\n",
    "df = pd.read_csv(\"training_set.csv\")\n",
    "X_train, X_test, y_train, y_test = train_test_split(\n",
    "    df[\"text\"], df[\"label\"], test_size=0.2, random_state=42\n",
    ")\n",
    "vectorizer = TfidfVectorizer(max_features=1000)\n",
    "X_train_tfidf = vectorizer.fit_transform(X_train)\n",
    "X_test_tfidf = vectorizer.transform(X_test)\n",
    "model = MultinomialNB()\n",
    "model.fit(X_train_tfidf, y_train)\n",
    "print(\"Training model complete.\\n\")\n",
    "\n",
    "\n",
    "def combined_categorization(prompt, answer, model, vectorizer):\n",
    "    combined_text = prompt + \" \" + answer\n",
    "    transformed_text = vectorizer.transform([combined_text])\n",
    "    return model.predict(transformed_text)[0]\n",
    "\n",
    "def process_json_files_rq1_model(model, vectorizer):\n",
    "    categories_count = {\n",
    "        \"Bug\": 0,\n",
    "        \"Feature Request\": 0,\n",
    "        \"Theoretical Question\": 0,\n",
    "        \"Other\": 0,\n",
    "    }\n",
    "    results = []\n",
    "\n",
    "    for data in get_snapshots():\n",
    "        for source in data.get(\"Sources\", []):\n",
    "            chatgpt_sharing = source.get(\"ChatgptSharing\", [])\n",
    "            for sharing in chatgpt_sharing:\n",
    "                for conversation in sharing.get(\"Conversations\", []):\n",
    "                    prompt = conversation.get(\"Prompt\", \"\")\n",
    "                    answer = conversation.get(\"Answer\", \"\")\n",
    "                    category = combined_categorization(\n",
    "                        prompt, answer, model, vectorizer\n",
    "                    )\n",
    "                    categories_count[category] += 1\n",
    "\n",
    "                    # Only add to results if category is not 'Other'\n",
    "                    if category != \"Other\":\n",
    "                        results.append(\n",
    "                            {\n",
    "                                \"prompt\": prompt,\n",
    "                                \"answer\": answer,\n",
    "                                \"category\": category,\n",
    "                            }\n",
    "                        )\n",
    "\n",
    "    return categories_count, results\n",
    "\n",
    "\n",
    "print(\"Starting analysis...\")\n",
    "model_categories_count, model_categorized_data = process_json_files_rq1_model(model, vectorizer)\n",
    "print(\"\\nAnalysis completed.\\n\")"
   ]
  },
  {
   "cell_type": "markdown",
   "metadata": {},
   "source": [
    "### RQ1 results of approach 2: Model Categorization"
   ]
  },
  {
   "cell_type": "code",
   "execution_count": 2,
   "metadata": {},
   "outputs": [
    {
     "name": "stdout",
     "output_type": "stream",
     "text": [
      "Results:\n"
     ]
    },
    {
     "ename": "NameError",
     "evalue": "name 'model_categorized_data' is not defined",
     "output_type": "error",
     "traceback": [
      "\u001b[1;31m---------------------------------------------------------------------------\u001b[0m",
      "\u001b[1;31mNameError\u001b[0m                                 Traceback (most recent call last)",
      "\u001b[1;32mc:\\Users\\kdool\\Desktop\\LOG6307E_Final_Project\\src\\main.ipynb Cell 10\u001b[0m line \u001b[0;36m2\n\u001b[0;32m      <a href='vscode-notebook-cell:/c%3A/Users/kdool/Desktop/LOG6307E_Final_Project/src/main.ipynb#X12sZmlsZQ%3D%3D?line=0'>1</a>\u001b[0m \u001b[39mprint\u001b[39m(\u001b[39m\"\u001b[39m\u001b[39mResults:\u001b[39m\u001b[39m\"\u001b[39m)\n\u001b[1;32m----> <a href='vscode-notebook-cell:/c%3A/Users/kdool/Desktop/LOG6307E_Final_Project/src/main.ipynb#X12sZmlsZQ%3D%3D?line=1'>2</a>\u001b[0m \u001b[39mprint\u001b[39m(\u001b[39m\"\u001b[39m\u001b[39m\\n\u001b[39;00m\u001b[39m\\t\u001b[39;00m\u001b[39mTotal conversations:\u001b[39m\u001b[39m\"\u001b[39m, \u001b[39mlen\u001b[39m(model_categorized_data))\n\u001b[0;32m      <a href='vscode-notebook-cell:/c%3A/Users/kdool/Desktop/LOG6307E_Final_Project/src/main.ipynb#X12sZmlsZQ%3D%3D?line=3'>4</a>\u001b[0m \u001b[39mprint\u001b[39m(model_categorized_data)\n\u001b[0;32m      <a href='vscode-notebook-cell:/c%3A/Users/kdool/Desktop/LOG6307E_Final_Project/src/main.ipynb#X12sZmlsZQ%3D%3D?line=5'>6</a>\u001b[0m \u001b[39mfor\u001b[39;00m category, count \u001b[39min\u001b[39;00m model_categories_count\u001b[39m.\u001b[39mitems():\n",
      "\u001b[1;31mNameError\u001b[0m: name 'model_categorized_data' is not defined"
     ]
    }
   ],
   "source": [
    "print(\"Results:\")\n",
    "print(\"\\n\\tTotal conversations:\", len(model_categorized_data))\n",
    "\n",
    "print(model_categorized_data)\n",
    "print(model_categories_count)\n",
    "\n",
    "for category, count in model_categories_count.items():\n",
    "    print(f\"\\t{category}: {count}\")"
   ]
  },
  {
   "cell_type": "markdown",
   "metadata": {},
   "source": [
    "# Research Question 2\n",
    "\n",
    "What is the typical structure of conversations between developers and ChatGPT?   \n",
    "How many turns does it take on average to reach a conclusion?"
   ]
  },
  {
   "cell_type": "code",
   "execution_count": null,
   "metadata": {},
   "outputs": [],
   "source": []
  }
 ],
 "metadata": {
  "kernelspec": {
   "display_name": "Python 3",
   "language": "python",
   "name": "python3"
  },
  "language_info": {
   "codemirror_mode": {
    "name": "ipython",
    "version": 3
   },
   "file_extension": ".py",
   "mimetype": "text/x-python",
   "name": "python",
   "nbconvert_exporter": "python",
   "pygments_lexer": "ipython3",
   "version": "3.10.0"
  }
 },
 "nbformat": 4,
 "nbformat_minor": 2
}
